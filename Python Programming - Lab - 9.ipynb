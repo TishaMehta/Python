{
 "cells": [
  {
   "cell_type": "markdown",
   "metadata": {},
   "source": [
    "<a href='https://www.darshan.ac.in/'> <img src='https://www.darshan.ac.in/Content/media/DU_Logo.svg' width=\"250\" height=\"300\"/></a>\n",
    "<pre>\n",
    "<center><b><h1>Python Programming - 2101CS405</b></center>\n",
    "<center><b><h1>Lab - 9</b></center>    \n",
    "<pre>"
   ]
  },
  {
   "cell_type": "markdown",
   "metadata": {},
   "source": [
    "# Exception Handling"
   ]
  },
  {
   "cell_type": "markdown",
   "metadata": {},
   "source": [
    "# A"
   ]
  },
  {
   "cell_type": "markdown",
   "metadata": {},
   "source": [
    "### 01) WAP to handle divide by zero exception."
   ]
  },
  {
   "cell_type": "code",
   "execution_count": 2,
   "metadata": {},
   "outputs": [
    {
     "name": "stdout",
     "output_type": "stream",
     "text": [
      "entre number:12\n",
      "ZeroDivision Error\n"
     ]
    }
   ],
   "source": [
    "try:\n",
    "    num=int(input(\"entre number:\"))\n",
    "    ans=num/0\n",
    "except ZeroDivisionError:\n",
    "    print(\"ZeroDivision Error\")"
   ]
  },
  {
   "cell_type": "markdown",
   "metadata": {},
   "source": [
    "### 02)  Write a Python program that inputs a number and generates an error message if it is not a number."
   ]
  },
  {
   "cell_type": "code",
   "execution_count": 4,
   "metadata": {},
   "outputs": [
    {
     "name": "stdout",
     "output_type": "stream",
     "text": [
      "entre number:tm\n",
      "entre valid number\n"
     ]
    }
   ],
   "source": [
    "try:\n",
    "    num=int(input(\"entre number:\"))\n",
    "except ValueError:\n",
    "    print(\"entre valid number\")"
   ]
  },
  {
   "cell_type": "markdown",
   "metadata": {},
   "source": [
    "### 03) WAP to handle file not found Exception"
   ]
  },
  {
   "cell_type": "code",
   "execution_count": 5,
   "metadata": {},
   "outputs": [
    {
     "name": "stdout",
     "output_type": "stream",
     "text": [
      "file does not found\n"
     ]
    }
   ],
   "source": [
    "try:\n",
    "    f=open(\"abc.txt\",\"r\")\n",
    "except FileNotFoundError:\n",
    "    print(\"file does not found\")"
   ]
  },
  {
   "cell_type": "markdown",
   "metadata": {},
   "source": [
    "### 04) WAP to handle type Exception."
   ]
  },
  {
   "cell_type": "code",
   "execution_count": 7,
   "metadata": {},
   "outputs": [
    {
     "name": "stdout",
     "output_type": "stream",
     "text": [
      "Invalid datatype\n"
     ]
    }
   ],
   "source": [
    "try:\n",
    "    ans = \"abc\" +9\n",
    "except TypeError:\n",
    "    print(\"Invalid datatype\")"
   ]
  },
  {
   "cell_type": "markdown",
   "metadata": {},
   "source": [
    "### 05) WAP to demonstrate valueError and indexError with example."
   ]
  },
  {
   "cell_type": "code",
   "execution_count": 10,
   "metadata": {},
   "outputs": [
    {
     "name": "stdout",
     "output_type": "stream",
     "text": [
      "entre number:12\n",
      "ValueError and indexError raised\n"
     ]
    }
   ],
   "source": [
    "try:\n",
    "    num=int(input(\"entre number:\"))\n",
    "    list1=[]\n",
    "    list1.append(num)\n",
    "    print(list1[1])\n",
    "except (ValueError,IndexError):\n",
    "    print(\"ValueError and indexError raised\")"
   ]
  },
  {
   "cell_type": "markdown",
   "metadata": {},
   "source": [
    "### 06) WAP to domonstrate else  and finally block."
   ]
  },
  {
   "cell_type": "code",
   "execution_count": 12,
   "metadata": {},
   "outputs": [
    {
     "name": "stdout",
     "output_type": "stream",
     "text": [
      "else bock\n",
      "15\n",
      "finally block\n"
     ]
    }
   ],
   "source": [
    "try:\n",
    "    ans=6+9\n",
    "except TypeError:\n",
    "    print(\"invalid datatype\")\n",
    "else:\n",
    "    print(\"else bock\")\n",
    "    print(ans)\n",
    "finally:\n",
    "    print(\"finally block\")"
   ]
  },
  {
   "cell_type": "markdown",
   "metadata": {},
   "source": [
    "### 07) Create a short program that prompts the user for a list of grades separated by commas. Split the string into individual grades and use a list comprehension to convert each string to an integer. You should use a try statement to inform the user when the values they entered cannot be converted."
   ]
  },
  {
   "cell_type": "code",
   "execution_count": 13,
   "metadata": {},
   "outputs": [
    {
     "name": "stdout",
     "output_type": "stream",
     "text": [
      "entre list of mark seperated by comma:67,99,78,56,78\n",
      "[67, 99, 78, 56, 78]\n"
     ]
    }
   ],
   "source": [
    "try:\n",
    "    marks=input(\"entre list of mark seperated by comma:\").split(\",\")\n",
    "    list1=[int(x) for x in marks]\n",
    "except:\n",
    "    print(\"value can't converted\")\n",
    "else:\n",
    "    print(list1)"
   ]
  },
  {
   "cell_type": "markdown",
   "metadata": {},
   "source": []
  },
  {
   "cell_type": "markdown",
   "metadata": {},
   "source": [
    "# B"
   ]
  },
  {
   "cell_type": "markdown",
   "metadata": {},
   "source": [
    "### 01) WAP to Raising User Generated Exception."
   ]
  },
  {
   "cell_type": "code",
   "execution_count": 18,
   "metadata": {},
   "outputs": [
    {
     "name": "stdout",
     "output_type": "stream",
     "text": [
      "entre x:4\n",
      "entre y:0\n",
      "ZeroDivisionError\n"
     ]
    }
   ],
   "source": [
    "x=int(input(\"entre x:\"))\n",
    "y=int(input(\"entre y:\"))\n",
    "try:\n",
    "    if(y==0):\n",
    "        raise ZeroDivisionError\n",
    "    else:\n",
    "        print(f\"answer:{x/y}\")\n",
    "except ZeroDivisionError:\n",
    "    print(\"ZeroDivisionError\")\n",
    "              "
   ]
  },
  {
   "cell_type": "markdown",
   "metadata": {},
   "source": [
    "### 02) WAP to raise your custom Exception."
   ]
  },
  {
   "cell_type": "code",
   "execution_count": 21,
   "metadata": {},
   "outputs": [
    {
     "name": "stdout",
     "output_type": "stream",
     "text": [
      "entre p:2\n",
      "entre q:0\n",
      "error ocured: cannot divide by zero\n"
     ]
    }
   ],
   "source": [
    "p=int(input(\"entre p:\"))\n",
    "q=int(input(\"entre q:\"))\n",
    "class CustomException(Exception):\n",
    "    pass\n",
    "try:\n",
    "    if q==0:\n",
    "        raise CustomException(\"cannot divide by zero\")\n",
    "    else:\n",
    "        print(p/q)\n",
    "except CustomException as e:\n",
    "    print(\"error ocured:\",e)"
   ]
  },
  {
   "cell_type": "code",
   "execution_count": null,
   "metadata": {},
   "outputs": [],
   "source": []
  }
 ],
 "metadata": {
  "kernelspec": {
   "display_name": "Python 3 (ipykernel)",
   "language": "python",
   "name": "python3"
  },
  "language_info": {
   "codemirror_mode": {
    "name": "ipython",
    "version": 3
   },
   "file_extension": ".py",
   "mimetype": "text/x-python",
   "name": "python",
   "nbconvert_exporter": "python",
   "pygments_lexer": "ipython3",
   "version": "3.9.13"
  }
 },
 "nbformat": 4,
 "nbformat_minor": 4
}
