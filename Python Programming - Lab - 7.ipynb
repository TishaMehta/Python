{
 "cells": [
  {
   "cell_type": "markdown",
   "metadata": {},
   "source": [
    "<a href='https://www.darshan.ac.in/'> <img src='https://www.darshan.ac.in/Content/media/DU_Logo.svg' width=\"250\" height=\"300\"/></a>\n",
    "<pre>\n",
    "<center><b><h1>Python Programming - 2101CS405</b></center>\n",
    "<center><b><h1>Lab - 7</b></center>    \n",
    "<pre>"
   ]
  },
  {
   "cell_type": "markdown",
   "metadata": {},
   "source": [
    "# Functions"
   ]
  },
  {
   "cell_type": "markdown",
   "metadata": {},
   "source": [
    "### 01) WAP to count simple interest using function."
   ]
  },
  {
   "cell_type": "code",
   "execution_count": 1,
   "metadata": {},
   "outputs": [
    {
     "name": "stdout",
     "output_type": "stream",
     "text": [
      "entre P:12\n",
      "entre R:3\n",
      "entre N:4\n",
      "Simple interest : 1.44\n"
     ]
    }
   ],
   "source": [
    "def SI(p,r,n):\n",
    "    print(f\"Simple interest : {p*r*n/100}\")\n",
    "p=int(input(\"entre P:\"))\n",
    "r=int(input(\"entre R:\"))\n",
    "n=int(input(\"entre N:\"))\n",
    "\n",
    "SI(p,r,n)"
   ]
  },
  {
   "cell_type": "markdown",
   "metadata": {},
   "source": [
    "### 02) WAP that defines a function to add first n numbers."
   ]
  },
  {
   "cell_type": "code",
   "execution_count": 2,
   "metadata": {},
   "outputs": [
    {
     "name": "stdout",
     "output_type": "stream",
     "text": [
      "Entre n:10\n",
      "Addition of first 10 number is :55\n"
     ]
    }
   ],
   "source": [
    "def Sum(n):\n",
    "    sum=0\n",
    "    for i in n:\n",
    "        sum+=i\n",
    "    return sum\n",
    "\n",
    "n=int(input(\"Entre n:\"))\n",
    "li=[]\n",
    "for i in range(1,n+1):\n",
    "    li.append(i)\n",
    "print(f\"Addition of first {n} number is :{Sum(li)}\")"
   ]
  },
  {
   "cell_type": "markdown",
   "metadata": {},
   "source": [
    "### 03) WAP to find maximum number from given two numbers using function."
   ]
  },
  {
   "cell_type": "code",
   "execution_count": 4,
   "metadata": {},
   "outputs": [
    {
     "name": "stdout",
     "output_type": "stream",
     "text": [
      "entre a =12\n",
      "entre b =34\n",
      "Maximum number from 12 & 34 is : 34\n"
     ]
    }
   ],
   "source": [
    "def max1(a,b):\n",
    "    print(f\"Maximum number from {a} & {b} is : {a if a>b else b}\")\n",
    "a=int(input(\"entre a =\"))\n",
    "b=int(input(\"entre b =\"))\n",
    "max1(a,b)"
   ]
  },
  {
   "cell_type": "markdown",
   "metadata": {},
   "source": [
    "### 04) WAP that defines a function which returns 1 if the number is prime otherwise return 0."
   ]
  },
  {
   "cell_type": "code",
   "execution_count": 7,
   "metadata": {},
   "outputs": [
    {
     "name": "stdout",
     "output_type": "stream",
     "text": [
      "entre n:10\n"
     ]
    },
    {
     "data": {
      "text/plain": [
       "0"
      ]
     },
     "execution_count": 7,
     "metadata": {},
     "output_type": "execute_result"
    }
   ],
   "source": [
    "def prime(n):\n",
    "    for i in (2,n/2):\n",
    "        if n%i==0:\n",
    "            return 0\n",
    "        return 1\n",
    "n=int(input(\"entre n:\"))\n",
    "prime(n)"
   ]
  },
  {
   "cell_type": "markdown",
   "metadata": {},
   "source": [
    "### 05) Write a function called primes that takes an integer value as an argument and returns a list of all prime numbers up to that number."
   ]
  },
  {
   "cell_type": "code",
   "execution_count": 14,
   "metadata": {},
   "outputs": [
    {
     "name": "stdout",
     "output_type": "stream",
     "text": [
      "Entre n:10\n",
      "prime number up to 10 are :2 3 5 7 "
     ]
    }
   ],
   "source": [
    "def primes(n):\n",
    "    for i in range(2,n+1):\n",
    "        for j in range(2,i):\n",
    "            if(i%j==0):\n",
    "                break\n",
    "        else:\n",
    "            print(i,end=\" \")\n",
    "n = int(input(\"Entre n:\"))\n",
    "print(f\"prime number up to {n} are :\" , end = \"\")\n",
    "primes(n)"
   ]
  },
  {
   "cell_type": "markdown",
   "metadata": {},
   "source": [
    "### 06) WAP to generate Fibonacci series of N given number using function name fibbo. (e.g. 0 1 1 2 3 5 8...)"
   ]
  },
  {
   "cell_type": "code",
   "execution_count": 15,
   "metadata": {},
   "outputs": [
    {
     "name": "stdout",
     "output_type": "stream",
     "text": [
      "entre n:10\n",
      "0 1 1 2 3 5 8 13 21 34 "
     ]
    }
   ],
   "source": [
    "def fibbo(n):\n",
    "    if(n==0):\n",
    "        return 0\n",
    "    elif(n==1):\n",
    "        return 1\n",
    "    else:\n",
    "        return fibbo(n-1)+fibbo(n-2)\n",
    "n=int(input(\"entre n:\"))\n",
    "for i in range(n):\n",
    "    print(f\"{fibbo(i)}\",end=\" \")"
   ]
  },
  {
   "cell_type": "markdown",
   "metadata": {},
   "source": [
    "### 07) WAP to find the factorial of a given number using recursion."
   ]
  },
  {
   "cell_type": "code",
   "execution_count": 17,
   "metadata": {},
   "outputs": [
    {
     "name": "stdout",
     "output_type": "stream",
     "text": [
      "Entre n:5\n",
      "Factorial of 5 is 120\n"
     ]
    }
   ],
   "source": [
    "def factorial(n):\n",
    "    if n==0 or n==1:\n",
    "        return 1\n",
    "    return n*factorial(n-1)\n",
    "n = int(input(\"Entre n:\"))\n",
    "print(f\"Factorial of {n} is {factorial(n)}\")"
   ]
  },
  {
   "cell_type": "markdown",
   "metadata": {},
   "source": [
    "### 08) WAP to implement simple calculator using lamda function."
   ]
  },
  {
   "cell_type": "code",
   "execution_count": 20,
   "metadata": {},
   "outputs": [
    {
     "name": "stdout",
     "output_type": "stream",
     "text": [
      "1 for sum, 2 for sub, 3 for mul, 4 for div\n",
      "entre operation number:2\n",
      "Entre a:12\n",
      "Entre b:12\n",
      "0\n"
     ]
    }
   ],
   "source": [
    "print(\"1 for sum, 2 for sub, 3 for mul, 4 for div\")\n",
    "op = input(\"entre operation number:\")\n",
    "a=int(input(\"Entre a:\"))\n",
    "b=int(input(\"Entre b:\"))\n",
    "ans = lambda a, b, op: (a+b if op==\"1\" else a-b if op==\"2\" else a*b if op==\"3\" else a/b )\n",
    "print(ans(a,b,op))"
   ]
  },
  {
   "cell_type": "markdown",
   "metadata": {},
   "source": [
    "### 09)Write a Python program that accepts a hyphen-separated sequence of words as input and prints the words in a hyphen-separated sequence after sorting them alphabetically\n",
    "Sample Items : green-red-yellow-black-white <br>\n",
    "Expected Result : black-green-red-white-yellow"
   ]
  },
  {
   "cell_type": "code",
   "execution_count": 22,
   "metadata": {},
   "outputs": [
    {
     "name": "stdout",
     "output_type": "stream",
     "text": [
      "Entre Hyphen Seperated String :green-white-black-pink\n",
      "black-green-pink-white\n"
     ]
    }
   ],
   "source": [
    "str1 = input(\"Entre Hyphen Seperated String :\")\n",
    "list1 = str1.split(\"-\")\n",
    "list1.sort()\n",
    "print(\"-\".join(list1))"
   ]
  },
  {
   "cell_type": "markdown",
   "metadata": {},
   "source": [
    "### 10) Write a python program to implement all function arguments type\n",
    "Positional arguments <Br>\n",
    "Default argument <Br>\n",
    "Keyword arguments (named arguments) <Br>\n",
    "Arbitrary arguments (variable-length arguments args and kwargs)"
   ]
  },
  {
   "cell_type": "code",
   "execution_count": 25,
   "metadata": {},
   "outputs": [
    {
     "name": "stdout",
     "output_type": "stream",
     "text": [
      "entre number:40\n",
      "entre number:60\n",
      "Positional arguments 100\n",
      "Entre number:30\n",
      "Default argument 40\n"
     ]
    }
   ],
   "source": [
    "a=int(input(\"entre number:\"))\n",
    "b=int(input(\"entre number:\"))\n",
    "\n",
    "PositionalrAguments = lambda a, b :a+b\n",
    "print(\"Positional arguments\",PositionalrAguments(a,b))\n",
    "\n",
    "a = int(input(\"Entre number:\"))\n",
    "defaultArgument = lambda a, b=10:a+b\n",
    "print(\"Default argument\",defaultArgument(a))"
   ]
  },
  {
   "cell_type": "code",
   "execution_count": 26,
   "metadata": {},
   "outputs": [
    {
     "name": "stdout",
     "output_type": "stream",
     "text": [
      "entre number:40\n",
      "entre number:50\n",
      "Keyword arguments (namer arguments) 90\n",
      "entre number:40\n",
      "Keyword arguments (named arguments) 55\n"
     ]
    }
   ],
   "source": [
    "a=int(input(\"entre number:\"))\n",
    "b=int(input(\"entre number:\"))\n",
    "\n",
    "def keywordArguments(a,b):\n",
    "    return a+b\n",
    "print(\"Keyword arguments (namer arguments)\" , keywordArguments(b=a,a=b))\n",
    "\n",
    "a=int(input(\"entre number:\"))\n",
    "def arbitraryArguments(a,*b):\n",
    "    sums=a\n",
    "    for i in b:\n",
    "        sums+=i\n",
    "    return sums\n",
    "print(\"Keyword arguments (named arguments)\" ,arbitraryArguments(a,5,10))\n"
   ]
  },
  {
   "cell_type": "markdown",
   "metadata": {},
   "source": [
    "### 01) WAP to calculate power of a number using recursion."
   ]
  },
  {
   "cell_type": "code",
   "execution_count": 27,
   "metadata": {},
   "outputs": [
    {
     "name": "stdout",
     "output_type": "stream",
     "text": [
      "entre Base:4\n",
      "entre power2\n"
     ]
    },
    {
     "data": {
      "text/plain": [
       "16"
      ]
     },
     "execution_count": 27,
     "metadata": {},
     "output_type": "execute_result"
    }
   ],
   "source": [
    "def powers(base,power):\n",
    "    if power==1:\n",
    "        return base\n",
    "    elif power==0:\n",
    "        return 1\n",
    "    else:\n",
    "        return base*powers(base,power-1)\n",
    "base = int(input(\"entre Base:\"))\n",
    "power = int(input(\"entre power\"))\n",
    "powers(base,power)"
   ]
  },
  {
   "cell_type": "markdown",
   "metadata": {},
   "source": [
    "### 02) WAP to count digits of a number using recursion."
   ]
  },
  {
   "cell_type": "code",
   "execution_count": 28,
   "metadata": {},
   "outputs": [
    {
     "name": "stdout",
     "output_type": "stream",
     "text": [
      "entre number :123214151\n",
      "9\n"
     ]
    }
   ],
   "source": [
    "def countDigits(n):\n",
    "    if n<10:\n",
    "        return 1\n",
    "    else:\n",
    "        return 1+countDigits(n//10)\n",
    "n=int(input(\"entre number :\"))\n",
    "ans = countDigits(n)\n",
    "print(ans)"
   ]
  },
  {
   "cell_type": "markdown",
   "metadata": {},
   "source": [
    "### 03) WAP to reverse an integer number using recursion."
   ]
  },
  {
   "cell_type": "code",
   "execution_count": 29,
   "metadata": {},
   "outputs": [
    {
     "name": "stdout",
     "output_type": "stream",
     "text": [
      "Entre number:1233148132\n",
      "Reverse :  2318413321\n"
     ]
    }
   ],
   "source": [
    "reverse_number=0\n",
    "def reverseNumber(n):\n",
    "    global reverse_number\n",
    "    if(n>0):\n",
    "        reminder = n%10\n",
    "        reverse_number = reverse_number*10 + reminder\n",
    "        reverseNumber(n//10)\n",
    "    return reverse_number\n",
    "\n",
    "n = int(input(\"Entre number:\"))\n",
    "reverse_number = reverseNumber(n)\n",
    "print(\"Reverse : \",reverse_number)"
   ]
  },
  {
   "cell_type": "markdown",
   "metadata": {},
   "source": [
    "### 04) WAP to convert decimal number into binary using recursion."
   ]
  },
  {
   "cell_type": "code",
   "execution_count": 31,
   "metadata": {},
   "outputs": [
    {
     "name": "stdout",
     "output_type": "stream",
     "text": [
      "entre number:6\n",
      "Binary : 110\n"
     ]
    }
   ],
   "source": [
    "def decimalToBinary(n):\n",
    "    if n==0:\n",
    "        return 0\n",
    "    else:\n",
    "        return n%2+10*(decimalToBinary(n//2))\n",
    "\n",
    "n = int(input(\"entre number:\"))\n",
    "ans =decimalToBinary(n)\n",
    "print(\"Binary :\",ans)"
   ]
  },
  {
   "cell_type": "code",
   "execution_count": null,
   "metadata": {},
   "outputs": [],
   "source": []
  }
 ],
 "metadata": {
  "kernelspec": {
   "display_name": "Python 3 (ipykernel)",
   "language": "python",
   "name": "python3"
  },
  "language_info": {
   "codemirror_mode": {
    "name": "ipython",
    "version": 3
   },
   "file_extension": ".py",
   "mimetype": "text/x-python",
   "name": "python",
   "nbconvert_exporter": "python",
   "pygments_lexer": "ipython3",
   "version": "3.9.13"
  }
 },
 "nbformat": 4,
 "nbformat_minor": 4
}
