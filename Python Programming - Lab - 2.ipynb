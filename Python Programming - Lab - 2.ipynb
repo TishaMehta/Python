{
 "cells": [
  {
   "cell_type": "markdown",
   "metadata": {},
   "source": [
    "\n",
    "<a href='https://www.darshan.ac.in/'> <img src='https://www.darshan.ac.in/Content/media/DU_Logo.svg' width=\"250\" height=\"300\"/></a>\n",
    "<pre>\n",
    "<center><b><h1>Python Programming - 2101CS405</b></center>\n",
    "<center><b><h1>Lab - 2</b></center>    \n",
    "<pre>"
   ]
  },
  {
   "cell_type": "markdown",
   "metadata": {},
   "source": [
    "# if..else.."
   ]
  },
  {
   "cell_type": "markdown",
   "metadata": {},
   "source": [
    "### 01) WAP to check whether the given number is positive or negative."
   ]
  },
  {
   "cell_type": "code",
   "execution_count": 2,
   "metadata": {},
   "outputs": [
    {
     "name": "stdout",
     "output_type": "stream",
     "text": [
      "entre number-12\n",
      "number is negative\n"
     ]
    }
   ],
   "source": [
    "n=int(input('entre number'))\n",
    "if n>0:\n",
    "    print('number is positive')\n",
    "else:\n",
    "    print('number is negative')"
   ]
  },
  {
   "cell_type": "markdown",
   "metadata": {},
   "source": [
    "### 02) WAP to check whether the given number is odd or even"
   ]
  },
  {
   "cell_type": "code",
   "execution_count": 1,
   "metadata": {},
   "outputs": [
    {
     "name": "stdout",
     "output_type": "stream",
     "text": [
      "entre number:-12\n",
      "number is even\n"
     ]
    }
   ],
   "source": [
    "n=int(input('entre number:'))\n",
    "if n%2==0:\n",
    "    print(\"number is even\")\n",
    "else:\n",
    "    print('number is odd')"
   ]
  },
  {
   "cell_type": "markdown",
   "metadata": {},
   "source": [
    "### 03) WAP to find out largest number from given two numbers using simple if and ternary operator."
   ]
  },
  {
   "cell_type": "code",
   "execution_count": 4,
   "metadata": {},
   "outputs": [
    {
     "name": "stdout",
     "output_type": "stream",
     "text": [
      "entre a:12\n",
      "entre b:23\n",
      "b is largest number 23\n"
     ]
    }
   ],
   "source": [
    "a=int(input('entre a:'))\n",
    "b=int(input('entre b:'))\n",
    "if a>b:\n",
    "    print('a is largest number',a)\n",
    "else:\n",
    "    print('b is largest number',b)"
   ]
  },
  {
   "cell_type": "code",
   "execution_count": 1,
   "metadata": {},
   "outputs": [
    {
     "name": "stdout",
     "output_type": "stream",
     "text": [
      "entre a:45\n",
      "entre b:12\n",
      "largest number= 45\n"
     ]
    }
   ],
   "source": [
    "a=int(input('entre a:'))\n",
    "b=int(input('entre b:'))\n",
    "max = a if a > b else b\n",
    "print('largest number=',max)"
   ]
  },
  {
   "cell_type": "markdown",
   "metadata": {},
   "source": [
    "### 04) WAP to find out largest number from given three numbers."
   ]
  },
  {
   "cell_type": "code",
   "execution_count": 2,
   "metadata": {},
   "outputs": [
    {
     "name": "stdout",
     "output_type": "stream",
     "text": [
      "entre a:23\n",
      "entre b:56\n",
      "entre c:34\n",
      "b is largest: 56\n"
     ]
    }
   ],
   "source": [
    "a= int(input('entre a:'))\n",
    "b=int(input('entre b:'))\n",
    "c=int(input('entre c:'))\n",
    "if a>b:\n",
    "    if a>c:\n",
    "        print('a is largest:',a)\n",
    "    else:\n",
    "        print('c is largest:',c)\n",
    "else:\n",
    "    if b>c:\n",
    "        print('b is largest:',b)\n",
    "    else:\n",
    "        print('c is largest:',c)"
   ]
  },
  {
   "cell_type": "markdown",
   "metadata": {},
   "source": [
    "### 05) WAP to check whether the given year is leap year or not.\n",
    "[If a year can be divisible by 4 but not divisible by 100 then it is leap year but if it is divisible by 400 then it is leap year]"
   ]
  },
  {
   "cell_type": "code",
   "execution_count": 3,
   "metadata": {},
   "outputs": [
    {
     "name": "stdout",
     "output_type": "stream",
     "text": [
      "entre year:2000\n",
      "leap year\n"
     ]
    }
   ],
   "source": [
    "y=int(input('entre year:'))\n",
    "if y%400==0 and y%100==0:\n",
    "    print('leap year')\n",
    "elif y%4==0 and y%100!=0:\n",
    "    print('leap year')\n",
    "else:\n",
    "    print('not a leap year')\n",
    "    "
   ]
  },
  {
   "cell_type": "markdown",
   "metadata": {},
   "source": [
    "### 06) WAP in python to display the name of the day according to the number given by the user"
   ]
  },
  {
   "cell_type": "code",
   "execution_count": 1,
   "metadata": {},
   "outputs": [
    {
     "name": "stdout",
     "output_type": "stream",
     "text": [
      "entre number:3\n",
      "tuesday\n"
     ]
    }
   ],
   "source": [
    "n=int(input('entre number:'))\n",
    "if n==1:\n",
    "    print('sunday')\n",
    "elif n==2:\n",
    "    print('monday')\n",
    "elif n==3:\n",
    "    print('tuesday')\n",
    "elif n==4:\n",
    "    print('wednesday')\n",
    "elif n==5:\n",
    "    print('thursday')\n",
    "elif n==6:\n",
    "    print('friday')\n",
    "elif n==7:\n",
    "    print('saturday')\n",
    "else:\n",
    "    print('please entre a valid number')"
   ]
  },
  {
   "cell_type": "markdown",
   "metadata": {},
   "source": [
    "### 07) WAP to implement simple calculator which performs (add,sub,mul,div) of two no. based on user input."
   ]
  },
  {
   "cell_type": "code",
   "execution_count": 1,
   "metadata": {},
   "outputs": [
    {
     "name": "stdout",
     "output_type": "stream",
     "text": [
      "entre a:12\n",
      "entre b:23\n",
      "entre  choice4\n",
      "div 0.5217391304347826\n"
     ]
    }
   ],
   "source": [
    "a=int(input('entre a:'))\n",
    "b=int(input('entre b:'))\n",
    "ch=int(input('entre  choice'))\n",
    "if ch==1:\n",
    "    ans=a+b\n",
    "    print(\"sum\",ans)\n",
    "elif ch==2:\n",
    "    ans=a-b\n",
    "    print(\"sub\",ans)\n",
    "elif ch==3:\n",
    "    ans=a*b\n",
    "    print(\"mul\",ans)\n",
    "elif ch==4:\n",
    "    ans=a/b\n",
    "    print(\"div\",ans)"
   ]
  },
  {
   "cell_type": "markdown",
   "metadata": {},
   "source": [
    "### 08) WAP to calculate electricity bill based on following criteria. Which takes the unit from the user.\n",
    "a. First 1 to 50 units – Rs. 2.60/unit</br>\n",
    "b. Next 50 to 100 units – Rs. 3.25/unit</br>\n",
    "c. Next 100 to 200 units – Rs. 5.26/unit</br>\n",
    "d. above 200 units – Rs. 8.45/unit"
   ]
  },
  {
   "cell_type": "code",
   "execution_count": 2,
   "metadata": {},
   "outputs": [
    {
     "name": "stdout",
     "output_type": "stream",
     "text": [
      "entre unit:367\n",
      "Rs. 8.45/unit\n"
     ]
    }
   ],
   "source": [
    "unit=int(input('entre unit:'))\n",
    "if 1<unit<50:\n",
    "    print('Rs. 2.60/unit')\n",
    "elif 50<=unit<100:\n",
    "    print('Rs. 3.25/unit')\n",
    "elif 100<=unit<200:\n",
    "    print('Rs.5.26/unit')\n",
    "elif unit>=200:\n",
    "    print('Rs. 8.45/unit')"
   ]
  },
  {
   "cell_type": "markdown",
   "metadata": {},
   "source": [
    "### 01) WAP to read marks of five subjects. Calculate percentage and print class accordingly. \n",
    "Fail below 35 </br>\n",
    "Pass Class between 35 to 45 </br>\n",
    "Second Class</br>\n",
    "between 45 to 60</br>\n",
    "First Class between 60 to 70</br> \n",
    "Distinction if more than 70"
   ]
  },
  {
   "cell_type": "code",
   "execution_count": 3,
   "metadata": {},
   "outputs": [
    {
     "name": "stdout",
     "output_type": "stream",
     "text": [
      "entre sub1 mark:89\n",
      "entre sub2 mark:78\n",
      "entre sub3 mark:90\n",
      "entre sub4 mark:99\n",
      "entre sub5 mark:67\n",
      "percentage: 84.6\n",
      "distinction\n"
     ]
    }
   ],
   "source": [
    "sub1=int(input('entre sub1 mark:'))\n",
    "sub2=int(input('entre sub2 mark:'))\n",
    "sub3=int(input('entre sub3 mark:'))\n",
    "sub4=int(input('entre sub4 mark:'))\n",
    "sub5=int(input('entre sub5 mark:'))\n",
    "total=sub1+sub2+sub3+sub4+sub5\n",
    "per=total/5\n",
    "print(\"percentage:\",per)\n",
    "if per<35:\n",
    "    print('fail')\n",
    "elif 35<=per<45:\n",
    "    print('pass class')\n",
    "elif 45<=per<60:\n",
    "    print('second class')\n",
    "elif 60<=per<70:\n",
    "    print('first class')\n",
    "elif per>=70:\n",
    "    print('distinction')"
   ]
  },
  {
   "cell_type": "markdown",
   "metadata": {},
   "source": [
    "### 02) WAP to find out the Maximum and Minimum number from given 4 numbers."
   ]
  },
  {
   "cell_type": "code",
   "execution_count": 2,
   "metadata": {},
   "outputs": [
    {
     "name": "stdout",
     "output_type": "stream",
     "text": [
      "entre a:34\n",
      "entre b:56\n",
      "entre c:67\n",
      "entre d:45\n",
      "maximum: 67\n",
      "minimum: 34\n"
     ]
    }
   ],
   "source": [
    "a=int(input('entre a:'))\n",
    "b=int(input('entre b:'))\n",
    "c=int(input('entre c:'))\n",
    "d=int(input('entre d:'))\n",
    "if a>b and a>c and a>d:\n",
    "    print('maximum:',a)\n",
    "elif b>c and b>d:\n",
    "    print('maximum:',b)\n",
    "elif c>d:\n",
    "    print('maximum:',c)\n",
    "else:\n",
    "    print('maximum:',d)\n",
    "if a<b and a<c and a<d:\n",
    "    print('minimum:',a)\n",
    "elif b<c and b<d:\n",
    "    print('minimum:',b)\n",
    "elif c<d:\n",
    "    print('minimum:',c)\n",
    "else:\n",
    "    print('minimum:',d)"
   ]
  },
  {
   "cell_type": "markdown",
   "metadata": {},
   "source": [
    "### 03) WAP to input an integer number and check the last digit of number is even or odd."
   ]
  },
  {
   "cell_type": "code",
   "execution_count": 4,
   "metadata": {},
   "outputs": [
    {
     "name": "stdout",
     "output_type": "stream",
     "text": [
      "entre number:12\n",
      "last digit of number is even\n"
     ]
    }
   ],
   "source": [
    "n=int(input('entre number:'))\n",
    "if (n%10)%2==0:\n",
    "    print('last digit of number is even')\n",
    "else:\n",
    "    print('last digit of number is odd')"
   ]
  },
  {
   "cell_type": "markdown",
   "metadata": {},
   "source": [
    "### 04) WAP to determine the roots of the equation ax2+bx+c=0."
   ]
  },
  {
   "cell_type": "code",
   "execution_count": 3,
   "metadata": {},
   "outputs": [
    {
     "name": "stdout",
     "output_type": "stream",
     "text": [
      "entre a:5\n",
      "entre b:4\n",
      "entre c:3\n",
      "root is not exist\n"
     ]
    }
   ],
   "source": [
    "a=int(input('entre a:'))\n",
    "b=int(input('entre b:'))\n",
    "c=int(input('entre c:'))\n",
    "root=(b**2)-4*a*c\n",
    "if root<0:\n",
    "    print('root is not exist')\n",
    "elif root>0:\n",
    "    print('root is exist and distinct')\n",
    "else:\n",
    "    print('root are same')"
   ]
  }
 ],
 "metadata": {
  "kernelspec": {
   "display_name": "Python 3 (ipykernel)",
   "language": "python",
   "name": "python3"
  },
  "language_info": {
   "codemirror_mode": {
    "name": "ipython",
    "version": 3
   },
   "file_extension": ".py",
   "mimetype": "text/x-python",
   "name": "python",
   "nbconvert_exporter": "python",
   "pygments_lexer": "ipython3",
   "version": "3.9.13"
  }
 },
 "nbformat": 4,
 "nbformat_minor": 4
}
