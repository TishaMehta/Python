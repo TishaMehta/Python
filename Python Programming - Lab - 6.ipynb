{
 "cells": [
  {
   "cell_type": "markdown",
   "metadata": {},
   "source": [
    "<a href='https://www.darshan.ac.in/'> <img src='https://www.darshan.ac.in/Content/media/DU_Logo.svg' width=\"250\" height=\"300\"/></a>\n",
    "<pre>\n",
    "<center><b><h1>Python Programming - 2101CS405</b></center>\n",
    "<center><b><h1>Lab - 6</b></center>    \n",
    "<pre>"
   ]
  },
  {
   "cell_type": "markdown",
   "metadata": {},
   "source": [
    "# Tuples, dictionary, set"
   ]
  },
  {
   "cell_type": "markdown",
   "metadata": {},
   "source": [
    "# A"
   ]
  },
  {
   "cell_type": "markdown",
   "metadata": {},
   "source": [
    "### 01) WAP to sort python dictionary by key or value."
   ]
  },
  {
   "cell_type": "code",
   "execution_count": 5,
   "metadata": {},
   "outputs": [
    {
     "name": "stdout",
     "output_type": "stream",
     "text": [
      "[('age', '20'), ('college', 'darshan Univercity'), ('name', 'Tisha'), ('roll_no', '303')]\n"
     ]
    }
   ],
   "source": [
    "dic={\"name\":\"Tisha\",\"age\":\"20\",\"roll_no\":\"303\",\"college\":\"darshan Univercity\"}\n",
    "sort_by_key=sorted(dic.items(),key=lambda x:x[0])\n",
    "print(sort_by_key)"
   ]
  },
  {
   "cell_type": "markdown",
   "metadata": {},
   "source": [
    "### 02) WAP to merge two dictionaries given by user."
   ]
  },
  {
   "cell_type": "code",
   "execution_count": 4,
   "metadata": {},
   "outputs": [
    {
     "name": "stdout",
     "output_type": "stream",
     "text": [
      "Entre length of dictionary 1:2\n",
      "entre a key:a\n",
      "entre a value:1\n",
      "entre a key:b\n",
      "entre a value:2\n",
      "entre length of dictionary:2\n",
      "entre a keyc\n",
      "entre a value:3\n",
      "entre a keyd\n",
      "entre a value:4\n",
      "{'a': '1', 'b': '2', 'c': '3', 'd': '4'}\n"
     ]
    }
   ],
   "source": [
    "dic1={}\n",
    "dic2={}\n",
    "for i in range (int(input(\"Entre length of dictionary 1:\"))):\n",
    "    key=input(\"entre a key:\")\n",
    "    dic1[key]=input(\"entre a value:\")\n",
    "\n",
    "for i in range(int(input(\"entre length of dictionary:\"))):\n",
    "    key=input(\"entre a key\")\n",
    "    dic2[key]=input(\"entre a value:\")\n",
    "dic1.update(dic2)\n",
    "print(dic1)"
   ]
  },
  {
   "cell_type": "markdown",
   "metadata": {},
   "source": [
    "### 03) WAP to find tuples that have all elements divisible by K from a list of tuples."
   ]
  },
  {
   "cell_type": "code",
   "execution_count": 7,
   "metadata": {},
   "outputs": [
    {
     "name": "stdout",
     "output_type": "stream",
     "text": [
      "Enter a number : 5\n",
      "(10, 20, 25, 55, 110)\n"
     ]
    }
   ],
   "source": [
    "k=int(input(\"Enter a number : \"))\n",
    "list_of_tupple=[(12,12,11),(10,20,25,55,110),(11,112,111,23)]\n",
    "def check(list_of_tupple):\n",
    "    for i in list_of_tupple:\n",
    "        if i%k!=0:\n",
    "            return False\n",
    "    return True\n",
    "print(list(filter(check,list_of_tupple))[0])\n"
   ]
  },
  {
   "cell_type": "markdown",
   "metadata": {},
   "source": [
    "### 04) WAP to find Tuples with positive elements in List of tuples."
   ]
  },
  {
   "cell_type": "code",
   "execution_count": 9,
   "metadata": {},
   "outputs": [
    {
     "name": "stdout",
     "output_type": "stream",
     "text": [
      "10 20 25\n",
      "11 112 111\n"
     ]
    }
   ],
   "source": [
    "l1=[(12,12,-11),(10,20,25),(11,112,111)]\n",
    "for a,b,c in l1:\n",
    "    if a>0 and b>0 and c>0:\n",
    "        print(a,b,c)\n"
   ]
  },
  {
   "cell_type": "markdown",
   "metadata": {},
   "source": [
    "### 05) WAP which perform union of two sets."
   ]
  },
  {
   "cell_type": "code",
   "execution_count": 10,
   "metadata": {},
   "outputs": [
    {
     "name": "stdout",
     "output_type": "stream",
     "text": [
      "{1, 2, 3, 4, 5, 6, 7, 8, 9, 10}\n"
     ]
    }
   ],
   "source": [
    "set1={1,2,3,4,5}\n",
    "set2={6,7,8,9,10}\n",
    "print(set1.union(set2))"
   ]
  },
  {
   "cell_type": "markdown",
   "metadata": {},
   "source": [
    "# B"
   ]
  },
  {
   "cell_type": "markdown",
   "metadata": {},
   "source": [
    "### 01) WAP to convert binary tuple into integer."
   ]
  },
  {
   "cell_type": "code",
   "execution_count": 11,
   "metadata": {},
   "outputs": [
    {
     "name": "stdout",
     "output_type": "stream",
     "text": [
      "1111\n"
     ]
    }
   ],
   "source": [
    "tupple=(\"1\",\"1\",\"1\",\"1\")\n",
    "str=\"\".join(tupple)\n",
    "print(int(str))"
   ]
  },
  {
   "cell_type": "markdown",
   "metadata": {},
   "source": [
    "### 02) WAP to count frequency in list by dictionary."
   ]
  },
  {
   "cell_type": "code",
   "execution_count": 13,
   "metadata": {},
   "outputs": [
    {
     "name": "stdout",
     "output_type": "stream",
     "text": [
      "{'a': 3, 'b': 2, 'c': 1}\n"
     ]
    }
   ],
   "source": [
    "d1={}\n",
    "l1=[\"a\",\"b\",\"c\",\"b\",\"a\",\"a\"]\n",
    "for i in l1:\n",
    "    if i in d1:\n",
    "        d1[i]+=1\n",
    "    else:\n",
    "        d1[i]=1\n",
    "print(d1)\n"
   ]
  },
  {
   "cell_type": "markdown",
   "metadata": {},
   "source": [
    "### 03) WAP to remove all the duplicate words from the list using dictionary."
   ]
  },
  {
   "cell_type": "code",
   "execution_count": 14,
   "metadata": {},
   "outputs": [
    {
     "name": "stdout",
     "output_type": "stream",
     "text": [
      "['a', 'b', 'c']\n"
     ]
    }
   ],
   "source": [
    "l1=[\"a\",\"b\",\"c\",\"b\",\"a\",\"a\",\"b\"]\n",
    "dic1=list(dict.fromkeys(l1))\n",
    "print(dic1)\n"
   ]
  },
  {
   "cell_type": "code",
   "execution_count": null,
   "metadata": {},
   "outputs": [],
   "source": []
  }
 ],
 "metadata": {
  "kernelspec": {
   "display_name": "Python 3 (ipykernel)",
   "language": "python",
   "name": "python3"
  },
  "language_info": {
   "codemirror_mode": {
    "name": "ipython",
    "version": 3
   },
   "file_extension": ".py",
   "mimetype": "text/x-python",
   "name": "python",
   "nbconvert_exporter": "python",
   "pygments_lexer": "ipython3",
   "version": "3.9.13"
  }
 },
 "nbformat": 4,
 "nbformat_minor": 4
}
