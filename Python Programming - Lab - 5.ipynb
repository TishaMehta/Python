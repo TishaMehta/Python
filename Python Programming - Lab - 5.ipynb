{
 "cells": [
  {
   "cell_type": "markdown",
   "metadata": {},
   "source": [
    "\n",
    "<a href='https://www.darshan.ac.in/'> <img src='https://www.darshan.ac.in/Content/media/DU_Logo.svg' width=\"250\" height=\"300\"/></a>\n",
    "<pre>\n",
    "<center><b><h1>Python Programming - 2101CS405</b></center>\n",
    "<center><b><h1>Lab - 5</b></center>    \n",
    "<pre>"
   ]
  },
  {
   "cell_type": "markdown",
   "metadata": {},
   "source": [
    "# list"
   ]
  },
  {
   "cell_type": "markdown",
   "metadata": {},
   "source": [
    "### 01) WAP to find sum of all the elements in List."
   ]
  },
  {
   "cell_type": "code",
   "execution_count": 3,
   "metadata": {},
   "outputs": [
    {
     "name": "stdout",
     "output_type": "stream",
     "text": [
      "Sum of all elements: 15\n"
     ]
    }
   ],
   "source": [
    "li,sum = [1,2,3,4,5],0\n",
    "for i in li:\n",
    "    sum+=i\n",
    "print(f\"Sum of all elements: {sum}\")"
   ]
  },
  {
   "cell_type": "markdown",
   "metadata": {},
   "source": [
    "### 02) WAP to find largest element in a List."
   ]
  },
  {
   "cell_type": "code",
   "execution_count": 4,
   "metadata": {},
   "outputs": [
    {
     "name": "stdout",
     "output_type": "stream",
     "text": [
      "Maximum elements is 5\n"
     ]
    }
   ],
   "source": [
    "li = [1,2,3,4,5]\n",
    "print(f\"Maximum elements is {max(li)}\")"
   ]
  },
  {
   "cell_type": "markdown",
   "metadata": {},
   "source": [
    "### 03) WAP to split the List into two and append the first part to the end."
   ]
  },
  {
   "cell_type": "code",
   "execution_count": 6,
   "metadata": {},
   "outputs": [
    {
     "data": {
      "text/plain": [
       "[3, 4, 5, 1, 2]"
      ]
     },
     "execution_count": 6,
     "metadata": {},
     "output_type": "execute_result"
    }
   ],
   "source": [
    "list = [1,2,3,4,5]\n",
    "l1 = list[:int(len(list)/2)]\n",
    "l2 = list[int(len(list)/2):]\n",
    "for i in l1:\n",
    "    l2.append(i)\n",
    "l2"
   ]
  },
  {
   "cell_type": "markdown",
   "metadata": {},
   "source": [
    "### 04) WAP to interchange first and last elements in list entered by a user."
   ]
  },
  {
   "cell_type": "code",
   "execution_count": 2,
   "metadata": {},
   "outputs": [
    {
     "name": "stdout",
     "output_type": "stream",
     "text": [
      "entre a number of element into list:5\n",
      "entre a element:1\n",
      "entre a element:2\n",
      "entre a element:3\n",
      "entre a element:4\n",
      "entre a element:5\n"
     ]
    },
    {
     "data": {
      "text/plain": [
       "[5, 2, 3, 4, 1]"
      ]
     },
     "execution_count": 2,
     "metadata": {},
     "output_type": "execute_result"
    }
   ],
   "source": [
    "l1=[]\n",
    "n=int(input(\"entre a number of element into list:\"))\n",
    "for i in range(0,n):\n",
    "    l1.append(int(input(\"entre a element:\")))\n",
    "l1[0],l1[-1]=l1[-1],l1[0]\n",
    "l1"
   ]
  },
  {
   "cell_type": "markdown",
   "metadata": {},
   "source": [
    "### 05) WAP to interchange the elements on two positions entered by a user."
   ]
  },
  {
   "cell_type": "code",
   "execution_count": 3,
   "metadata": {},
   "outputs": [
    {
     "name": "stdout",
     "output_type": "stream",
     "text": [
      "entre a number of element into list:5\n",
      "entre a element:1\n",
      "entre a element:2\n",
      "entre a element:3\n",
      "entre a element:4\n",
      "entre a element:5\n",
      "entre a postition to element:7\n",
      "entre a position of element you want to put element:1\n",
      "entre position according to list length\n",
      "entre a postition to element:4\n",
      "entre a position of element you want to put element:1\n"
     ]
    },
    {
     "data": {
      "text/plain": [
       "[4, 2, 3, 1, 5]"
      ]
     },
     "execution_count": 3,
     "metadata": {},
     "output_type": "execute_result"
    }
   ],
   "source": [
    "l1=[]\n",
    "n=int(input(\"entre a number of element into list:\"))\n",
    "\n",
    "for i in range(0,n):\n",
    "    l1.append(int(input(\"entre a element:\")))\n",
    "i=int(input(\"entre a postition to element:\"))\n",
    "j=int(input(\"entre a position of element you want to put element:\"))\n",
    "while(True):\n",
    "    if(i>len(l1) or j>len(l1)):\n",
    "        print(\"entre position according to list length\")\n",
    "        i=int(input(\"entre a postition to element:\"))\n",
    "        j=int(input(\"entre a position of element you want to put element:\"))\n",
    "    else:\n",
    "        break;\n",
    "l1[i-1],l1[j-1]=l1[j-1],l1[i-1]\n",
    "l1"
   ]
  },
  {
   "cell_type": "markdown",
   "metadata": {},
   "source": [
    "### 06) WAP to reverses the list entered by user."
   ]
  },
  {
   "cell_type": "code",
   "execution_count": 4,
   "metadata": {},
   "outputs": [
    {
     "name": "stdout",
     "output_type": "stream",
     "text": [
      "[23, 11, 23, 3, 34, 12]\n"
     ]
    }
   ],
   "source": [
    "l1=[12,34,3,23,11,23]\n",
    "print(l1[::-1])"
   ]
  },
  {
   "cell_type": "markdown",
   "metadata": {},
   "source": [
    "### 07) Python program to remove multiple elements from a list using list comprehension"
   ]
  },
  {
   "cell_type": "code",
   "execution_count": 13,
   "metadata": {},
   "outputs": [
    {
     "data": {
      "text/plain": [
       "[4, 5, 6]"
      ]
     },
     "execution_count": 13,
     "metadata": {},
     "output_type": "execute_result"
    }
   ],
   "source": [
    "li = [1,2,3,4,5,6]\n",
    "\n",
    "n = [i for i in li if i>3]\n",
    "\n",
    "n"
   ]
  },
  {
   "cell_type": "markdown",
   "metadata": {},
   "source": [
    "### 08) Create a list from the specified start to end index of another list."
   ]
  },
  {
   "cell_type": "code",
   "execution_count": 5,
   "metadata": {},
   "outputs": [
    {
     "data": {
      "text/plain": [
       "[4, 3, 2]"
      ]
     },
     "execution_count": 5,
     "metadata": {},
     "output_type": "execute_result"
    }
   ],
   "source": [
    "l1=[1,2,3,4,3,2,12,23,123,1234,456]\n",
    "l2=l1[3:6:1]\n",
    "l2"
   ]
  },
  {
   "cell_type": "markdown",
   "metadata": {},
   "source": [
    "### 09) Input comma separated elements, convert into list and print."
   ]
  },
  {
   "cell_type": "code",
   "execution_count": 6,
   "metadata": {},
   "outputs": [
    {
     "data": {
      "text/plain": [
       "[1, 2, 3, 4, 5, 6, 7, 8]"
      ]
     },
     "execution_count": 6,
     "metadata": {},
     "output_type": "execute_result"
    }
   ],
   "source": [
    "string1=\"1,2,3,4,5,6,7,8\"\n",
    "l1=string1.split(\",\")\n",
    "l2=[int(i) for i in l1]\n",
    "l2"
   ]
  },
  {
   "cell_type": "markdown",
   "metadata": {},
   "source": [
    "### 01) WAP to count Even and Odd numbers in a List."
   ]
  },
  {
   "cell_type": "code",
   "execution_count": 9,
   "metadata": {},
   "outputs": [
    {
     "name": "stdout",
     "output_type": "stream",
     "text": [
      "entre a number of element into list:4\n",
      "entre a element:123\n",
      "entre a element:1234\n",
      "entre a element:12121\n",
      "entre a element:12131\n",
      "odd number in list:3\n",
      "even number in list :1\n"
     ]
    }
   ],
   "source": [
    "l1=[]\n",
    "n=int(input(\"entre a number of element into list:\"))\n",
    "even=0\n",
    "odd=0\n",
    "for i in range(0,n):\n",
    "    l1.append(int(input(\"entre a element:\")))\n",
    "for i in l1:\n",
    "    if i%2==0:\n",
    "        even+=1\n",
    "    else:\n",
    "        odd+=1\n",
    "print(f\"odd number in list:{odd}\\neven number in list :{even}\")"
   ]
  },
  {
   "cell_type": "markdown",
   "metadata": {},
   "source": [
    "### 02) Python program to find N largest and smallest elements from the list"
   ]
  },
  {
   "cell_type": "code",
   "execution_count": 12,
   "metadata": {},
   "outputs": [
    {
     "name": "stdout",
     "output_type": "stream",
     "text": [
      "Enter index of list : 4\n",
      "Enter element of list : 12\n",
      "Enter element of list : 23\n",
      "Enter element of list : 34\n",
      "Enter element of list : 3\n",
      "Enter N number : 2\n",
      "First 2 largest number : [34] \n",
      "First 2 smallest number : [3, 12]\n"
     ]
    }
   ],
   "source": [
    "li = []\n",
    "n = int(input(\"Enter index of list : \"))\n",
    "\n",
    "for i in range(n):\n",
    "    x = int(input(\"Enter element of list : \"))\n",
    "    li.append(x)\n",
    "\n",
    "m = int(input(\"Enter N number : \"))\n",
    "\n",
    "li.sort()\n",
    "\n",
    "l1 = li[:m:]\n",
    "l2 = li[:m:-1]\n",
    "\n",
    "print(f\"First {m} largest number :\",l2,f\"\\nFirst {m} smallest number :\",l1)\n"
   ]
  },
  {
   "cell_type": "markdown",
   "metadata": {},
   "source": [
    "###### 03) WAP to print duplicates from a list of integers"
   ]
  },
  {
   "cell_type": "code",
   "execution_count": 10,
   "metadata": {},
   "outputs": [
    {
     "name": "stdout",
     "output_type": "stream",
     "text": [
      "entre a no. of element into list:4\n",
      "entre a element:1\n",
      "entre a element:2\n",
      "entre a element:3\n",
      "entre a element:4\n"
     ]
    }
   ],
   "source": [
    "l1=[]\n",
    "n=int(input(\"entre a no. of element into list:\"))\n",
    "for i in range(0,n):\n",
    "    l1.append(int(input(\"entre a element:\")))"
   ]
  },
  {
   "cell_type": "code",
   "execution_count": null,
   "metadata": {},
   "outputs": [],
   "source": []
  }
 ],
 "metadata": {
  "kernelspec": {
   "display_name": "Python 3 (ipykernel)",
   "language": "python",
   "name": "python3"
  },
  "language_info": {
   "codemirror_mode": {
    "name": "ipython",
    "version": 3
   },
   "file_extension": ".py",
   "mimetype": "text/x-python",
   "name": "python",
   "nbconvert_exporter": "python",
   "pygments_lexer": "ipython3",
   "version": "3.9.13"
  }
 },
 "nbformat": 4,
 "nbformat_minor": 4
}
