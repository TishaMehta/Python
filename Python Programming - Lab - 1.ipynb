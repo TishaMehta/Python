{
 "cells": [
  {
   "cell_type": "markdown",
   "metadata": {},
   "source": [
    "<a href='https://www.darshan.ac.in/'> <img src='https://www.darshan.ac.in/Content/media/DU_Logo.svg' width=\"250\" height=\"300\"/></a>\n",
    "<pre>\n",
    "<center><b><h1>Python Programming - 2101CS405</b></center>\n",
    "<center><b><h1>Lab - 1</b></center>    \n",
    "<pre>"
   ]
  },
  {
   "cell_type": "markdown",
   "metadata": {},
   "source": [
    "### 01) WAP to print “Hello World”"
   ]
  },
  {
   "cell_type": "code",
   "execution_count": 1,
   "metadata": {},
   "outputs": [
    {
     "name": "stdout",
     "output_type": "stream",
     "text": [
      "Hello World\n"
     ]
    }
   ],
   "source": [
    "print('Hello World')"
   ]
  },
  {
   "cell_type": "markdown",
   "metadata": {},
   "source": [
    "### 02) WAP to print your address i) using single print ii) using multiple print"
   ]
  },
  {
   "cell_type": "code",
   "execution_count": 4,
   "metadata": {},
   "outputs": [
    {
     "name": "stdout",
     "output_type": "stream",
     "text": [
      "khatri fali, motaashpura road, jamnagar\n"
     ]
    }
   ],
   "source": [
    "print('khatri fali, motaashpura road, jamnagar')"
   ]
  },
  {
   "cell_type": "code",
   "execution_count": 3,
   "metadata": {},
   "outputs": [
    {
     "name": "stdout",
     "output_type": "stream",
     "text": [
      "khatri fali,\n",
      "motaashpura road,\n",
      "jamnagar\n"
     ]
    }
   ],
   "source": [
    "\n",
    "print('khatri fali,\\nmotaashpura road,\\njamnagar')"
   ]
  },
  {
   "cell_type": "markdown",
   "metadata": {},
   "source": [
    "### 03) WAP to print addition of 2 numbers (without input function)"
   ]
  },
  {
   "cell_type": "code",
   "execution_count": 5,
   "metadata": {},
   "outputs": [
    {
     "name": "stdout",
     "output_type": "stream",
     "text": [
      "sum=  32\n"
     ]
    }
   ],
   "source": [
    "a, b = 12, 20\n",
    "sum = a+b\n",
    "print('sum= ',sum)"
   ]
  },
  {
   "cell_type": "markdown",
   "metadata": {},
   "source": [
    "### 04) WAP to calculate and print average of 2 numbers (without input function)"
   ]
  },
  {
   "cell_type": "code",
   "execution_count": 7,
   "metadata": {},
   "outputs": [
    {
     "name": "stdout",
     "output_type": "stream",
     "text": [
      "average= 16.0\n"
     ]
    }
   ],
   "source": [
    "a,b = 12, 20\n",
    "avg = (a+b)/2\n",
    "print('average=',avg)"
   ]
  },
  {
   "cell_type": "markdown",
   "metadata": {},
   "source": [
    "### 05) WAP to add two number entered by user."
   ]
  },
  {
   "cell_type": "code",
   "execution_count": 8,
   "metadata": {},
   "outputs": [
    {
     "name": "stdout",
     "output_type": "stream",
     "text": [
      "entre a:12\n",
      "entre b:90\n",
      "sum= 102\n"
     ]
    }
   ],
   "source": [
    "a=int(input('entre a:'))\n",
    "b=int(input('entre b:'))\n",
    "sum=a+b\n",
    "print(\"sum=\",sum)"
   ]
  },
  {
   "cell_type": "markdown",
   "metadata": {},
   "source": [
    "### 06) WAP to calculate simple interest."
   ]
  },
  {
   "cell_type": "code",
   "execution_count": 9,
   "metadata": {},
   "outputs": [
    {
     "name": "stdout",
     "output_type": "stream",
     "text": [
      "entre principal amount123\n",
      "entre rate12\n",
      "entre number of year2\n",
      "simple interest: 29.52\n"
     ]
    }
   ],
   "source": [
    "p=int(input(\"entre principal amount\"))\n",
    "r=int(input(\"entre rate\"))\n",
    "n=int(input(\"entre number of year\"))\n",
    "\n",
    "i=(p*r*n)/100\n",
    "print(\"simple interest:\",i)\n"
   ]
  },
  {
   "cell_type": "markdown",
   "metadata": {},
   "source": [
    "### 07) WAP Calculate Area and Circumfrence of Circle"
   ]
  },
  {
   "cell_type": "code",
   "execution_count": 11,
   "metadata": {},
   "outputs": [
    {
     "name": "stdout",
     "output_type": "stream",
     "text": [
      "entre redius12\n",
      "area: 452.15999999999997\n",
      "circumfrence: 75.36\n"
     ]
    }
   ],
   "source": [
    "r=int(input('entre redius'))\n",
    "area=3.14*r*r\n",
    "circumfrence=2*3.14*r\n",
    "print(\"area:\",area)\n",
    "\n",
    "print('circumfrence:',circumfrence)"
   ]
  },
  {
   "cell_type": "markdown",
   "metadata": {},
   "source": [
    "### 08) WAP to print Multiplication table of given number without using loops."
   ]
  },
  {
   "cell_type": "code",
   "execution_count": 12,
   "metadata": {},
   "outputs": [
    {
     "name": "stdout",
     "output_type": "stream",
     "text": [
      "entre number:12\n",
      "12 *1 = 12\n",
      "12 *2 = 24\n",
      "12 *3 = 36\n",
      "12 *4 = 48\n",
      "12 *5 = 60\n",
      "12 *6 = 72\n",
      "12 *7 = 84\n",
      "12 *8 = 96\n",
      "12 *9 = 108\n",
      "12 *10 = 120\n"
     ]
    }
   ],
   "source": [
    "n=int(input('entre number:'))\n",
    "print(n,\"*1 =\",n*1)\n",
    "print(n,\"*2 =\",n*2)\n",
    "print(n,\"*3 =\",n*3)\n",
    "print(n,\"*4 =\",n*4)\n",
    "print(n,\"*5 =\",n*5)\n",
    "print(n,\"*6 =\",n*6)\n",
    "print(n,\"*7 =\",n*7)\n",
    "print(n,\"*8 =\",n*8)\n",
    "print(n,\"*9 =\",n*9)\n",
    "print(n,\"*10 =\",n*10)"
   ]
  },
  {
   "cell_type": "markdown",
   "metadata": {},
   "source": [
    "### 09) WAP to calculate Area of Triangle (hint: a = h * b * 0.5)"
   ]
  },
  {
   "cell_type": "code",
   "execution_count": 13,
   "metadata": {},
   "outputs": [
    {
     "name": "stdout",
     "output_type": "stream",
     "text": [
      "entre hight:12\n",
      "entre base:;18\n",
      "area of triangle= 108.0\n"
     ]
    }
   ],
   "source": [
    "h=int(input('entre hight:'))\n",
    "b=int(input('entre base:;'))\n",
    "a=h*b*0.5\n",
    "print('area of triangle=',a)"
   ]
  },
  {
   "cell_type": "markdown",
   "metadata": {},
   "source": [
    "### 10) WAP to convert degree to Fahrenheit and vice versa."
   ]
  },
  {
   "cell_type": "code",
   "execution_count": 22,
   "metadata": {},
   "outputs": [
    {
     "name": "stdout",
     "output_type": "stream",
     "text": [
      "entre c:12\n",
      "entre f:23\n",
      "fahrenheit= 53.6\n",
      "degree= 935.1111111111112\n"
     ]
    }
   ],
   "source": [
    "C=int(input('entre c:'))\n",
    "F=int(input('entre f:'))\n",
    "F=((9/5)*C)+32\n",
    "c=(5/9)*(32*F-32)\n",
    "print(\"fahrenheit=\",F)\n",
    "print('degree=',c)"
   ]
  },
  {
   "cell_type": "markdown",
   "metadata": {},
   "source": [
    "### 11) WAP to calculate total marks and Percentage."
   ]
  },
  {
   "cell_type": "code",
   "execution_count": 23,
   "metadata": {},
   "outputs": [
    {
     "name": "stdout",
     "output_type": "stream",
     "text": [
      "entre maths mark:89\n",
      "entre MADF mark:90\n",
      "entre OS mark:78\n",
      "entre DAA mark:78\n",
      "entre OOP mark:90\n",
      "total= 425\n",
      "percentage= 85.0\n"
     ]
    }
   ],
   "source": [
    "maths=int(input('entre maths mark:'))\n",
    "MADF=int(input('entre MADF mark:'))\n",
    "OS=int(input('entre OS mark:'))\n",
    "DAA=int(input('entre DAA mark:'))\n",
    "OOP=int(input('entre OOP mark:'))\n",
    "total=maths+MADF+OS+DAA+OOP\n",
    "percentage=total/5\n",
    "print(\"total=\",total)\n",
    "print(\"percentage=\",percentage)"
   ]
  },
  {
   "cell_type": "markdown",
   "metadata": {},
   "source": [
    "### 12) Compute distance between two points taking input from the user (Pythagorean Theorem)."
   ]
  },
  {
   "cell_type": "code",
   "execution_count": 1,
   "metadata": {},
   "outputs": [
    {
     "name": "stdout",
     "output_type": "stream",
     "text": [
      "entre x:12\n",
      "entre x1:23\n",
      "entre y:12\n",
      "entre y1:34\n",
      "distance= 24.596747752497688\n"
     ]
    }
   ],
   "source": [
    "import math\n",
    "x=int(input('entre x:'))\n",
    "x1=int(input('entre x1:'))\n",
    "y=int(input('entre y:'))\n",
    "y1=int(input('entre y1:'))\n",
    "distance=math.sqrt(((x-x1)*(x-x1))+((y-y1)*(y-y1)))\n",
    "print('distance=',distance)"
   ]
  },
  {
   "cell_type": "markdown",
   "metadata": {},
   "source": [
    "### 13) WAP to convert seconds into hours, minutes & seconds and print in HH:MM:SS\n",
    "[e.g. 10000 seconds mean 2:46:40 (2 Hours, 46 Minutes, 40Seconds)]"
   ]
  },
  {
   "cell_type": "code",
   "execution_count": 1,
   "metadata": {},
   "outputs": [
    {
     "name": "stdout",
     "output_type": "stream",
     "text": [
      "entre second:10000\n",
      "2 hour 46 minute 40 second\n"
     ]
    }
   ],
   "source": [
    "second=int(input('entre second:'))\n",
    "hour=second//3600\n",
    "minute=(second-(hour*3600))//60\n",
    "second=(second-(hour*3600)-(minute*60))\n",
    "print(hour,'hour',minute,'minute',second,'second')"
   ]
  },
  {
   "cell_type": "markdown",
   "metadata": {},
   "source": [
    "### 14) WAP to enter distance into kilometer and convert it into meter, feet,inches, and centimeter"
   ]
  },
  {
   "cell_type": "code",
   "execution_count": 2,
   "metadata": {},
   "outputs": [
    {
     "name": "stdout",
     "output_type": "stream",
     "text": [
      "entre is a distance in kilometer:12000\n",
      "meter: 12000000.0\n",
      "feet: 39372000.0\n",
      "inches: 472440000.0\n",
      "cm: 1200000000.0\n"
     ]
    }
   ],
   "source": [
    "km=float(input('entre is a distance in kilometer:'))\n",
    "meter=1000*km\n",
    "feet=3281*km\n",
    "inches=39370*km\n",
    "cm=100000*km\n",
    "print('meter:',meter)\n",
    "print('feet:',feet)\n",
    "print('inches:',inches)\n",
    "print('cm:',cm)"
   ]
  }
 ],
 "metadata": {
  "kernelspec": {
   "display_name": "Python 3 (ipykernel)",
   "language": "python",
   "name": "python3"
  },
  "language_info": {
   "codemirror_mode": {
    "name": "ipython",
    "version": 3
   },
   "file_extension": ".py",
   "mimetype": "text/x-python",
   "name": "python",
   "nbconvert_exporter": "python",
   "pygments_lexer": "ipython3",
   "version": "3.9.13"
  }
 },
 "nbformat": 4,
 "nbformat_minor": 4
}
