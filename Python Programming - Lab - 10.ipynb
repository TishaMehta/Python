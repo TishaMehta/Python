{
 "cells": [
  {
   "cell_type": "markdown",
   "metadata": {},
   "source": [
    "<a href='https://www.darshan.ac.in/'> <img src='https://www.darshan.ac.in/Content/media/DU_Logo.svg' width=\"250\" height=\"300\"/></a>\n",
    "<pre>\n",
    "<center><b><h1>Python Programming - 2101CS405</b></center>\n",
    "<center><b><h1>Lab - 10</b></center>    \n",
    "<pre>"
   ]
  },
  {
   "cell_type": "markdown",
   "metadata": {},
   "source": [
    "# Modules"
   ]
  },
  {
   "cell_type": "markdown",
   "metadata": {},
   "source": [
    "# A"
   ]
  },
  {
   "cell_type": "markdown",
   "metadata": {},
   "source": [
    "### 01) WAP to create Calculator module which defines functions like add, sub,mul and div. create another file that uses the Calculator module."
   ]
  },
  {
   "cell_type": "code",
   "execution_count": 1,
   "metadata": {},
   "outputs": [
    {
     "ename": "ModuleNotFoundError",
     "evalue": "No module named 'calculator2'",
     "output_type": "error",
     "traceback": [
      "\u001b[1;31m---------------------------------------------------------------------------\u001b[0m",
      "\u001b[1;31mModuleNotFoundError\u001b[0m                       Traceback (most recent call last)",
      "\u001b[1;32m~\\AppData\\Local\\Temp\\ipykernel_16128\\2844624417.py\u001b[0m in \u001b[0;36m<module>\u001b[1;34m\u001b[0m\n\u001b[1;32m----> 1\u001b[1;33m \u001b[1;32mimport\u001b[0m \u001b[0mcalculator2\u001b[0m\u001b[1;33m\u001b[0m\u001b[1;33m\u001b[0m\u001b[0m\n\u001b[0m\u001b[0;32m      2\u001b[0m \u001b[0mcalculator2\u001b[0m\u001b[1;33m.\u001b[0m\u001b[0madd\u001b[0m\u001b[1;33m(\u001b[0m\u001b[1;36m5\u001b[0m\u001b[1;33m,\u001b[0m\u001b[1;36m10\u001b[0m\u001b[1;33m)\u001b[0m\u001b[1;33m\u001b[0m\u001b[1;33m\u001b[0m\u001b[0m\n\u001b[0;32m      3\u001b[0m \u001b[0mcalculator2\u001b[0m\u001b[1;33m.\u001b[0m\u001b[0msub\u001b[0m\u001b[1;33m(\u001b[0m\u001b[1;36m5\u001b[0m\u001b[1;33m,\u001b[0m\u001b[1;36m10\u001b[0m\u001b[1;33m)\u001b[0m\u001b[1;33m\u001b[0m\u001b[1;33m\u001b[0m\u001b[0m\n\u001b[0;32m      4\u001b[0m \u001b[0mcalculator2\u001b[0m\u001b[1;33m.\u001b[0m\u001b[0mmul\u001b[0m\u001b[1;33m(\u001b[0m\u001b[1;36m5\u001b[0m\u001b[1;33m,\u001b[0m\u001b[1;36m10\u001b[0m\u001b[1;33m)\u001b[0m\u001b[1;33m\u001b[0m\u001b[1;33m\u001b[0m\u001b[0m\n\u001b[0;32m      5\u001b[0m \u001b[0mcalculator2\u001b[0m\u001b[1;33m.\u001b[0m\u001b[0mdiv\u001b[0m\u001b[1;33m(\u001b[0m\u001b[1;36m5\u001b[0m\u001b[1;33m,\u001b[0m\u001b[1;36m10\u001b[0m\u001b[1;33m)\u001b[0m\u001b[1;33m\u001b[0m\u001b[1;33m\u001b[0m\u001b[0m\n",
      "\u001b[1;31mModuleNotFoundError\u001b[0m: No module named 'calculator2'"
     ]
    }
   ],
   "source": [
    "import calculator2\n",
    "calculator2.add(5,10)\n",
    "calculator2.sub(5,10)\n",
    "calculator2.mul(5,10)\n",
    "calculator2.div(5,10)\n"
   ]
  },
  {
   "cell_type": "markdown",
   "metadata": {},
   "source": [
    "### 02) WAP to Pick a random character from a given String."
   ]
  },
  {
   "cell_type": "code",
   "execution_count": 6,
   "metadata": {},
   "outputs": [
    {
     "name": "stdout",
     "output_type": "stream",
     "text": [
      "s\n"
     ]
    }
   ],
   "source": [
    "import random\n",
    "a=\"Darshan\"\n",
    "print(random.choice(a))"
   ]
  },
  {
   "cell_type": "markdown",
   "metadata": {},
   "source": [
    "### 03) WAP to Pick a random element from a given list."
   ]
  },
  {
   "cell_type": "code",
   "execution_count": 9,
   "metadata": {},
   "outputs": [
    {
     "name": "stdout",
     "output_type": "stream",
     "text": [
      "red\n"
     ]
    }
   ],
   "source": [
    "list1 = [\"red\",\"pink\",\"black\",\"blue\"]\n",
    "print(random.choice(list1))"
   ]
  },
  {
   "cell_type": "markdown",
   "metadata": {},
   "source": [
    "### 04) WAP to demonstrate the use of the math module."
   ]
  },
  {
   "cell_type": "code",
   "execution_count": 20,
   "metadata": {},
   "outputs": [
    {
     "name": "stdout",
     "output_type": "stream",
     "text": [
      "e= 2.718281828459045\n",
      "PI= 3.141592653589793\n",
      "Tau= 6.283185307179586\n",
      "Ceil= 8\n",
      "Floor= 7\n",
      "Factorial= 120\n",
      "GCD= 3\n",
      "LCM= 15\n",
      "Fabs= 15.0\n",
      "Exponential= 7.38905609893065\n",
      "Power= 8.0\n",
      "Log with Base 2= 5.0\n",
      "Log with base 10= 1.0\n",
      "Degree to radian= 1.5707963267948966\n",
      "radian to degree= 90.0\n",
      "Gamma= 1.0\n"
     ]
    }
   ],
   "source": [
    "import math\n",
    "print(\"e=\",math.e)\n",
    "print(\"PI=\",math.pi)\n",
    "print(\"Tau=\",math.tau)\n",
    "print(\"Ceil=\",math.ceil(7.8))\n",
    "print(\"Floor=\",math.floor(7.8))\n",
    "print(\"Factorial=\",math.factorial(5))\n",
    "print(\"GCD=\",math.gcd(15,3))\n",
    "print(\"LCM=\",math.lcm(15,3))\n",
    "print(\"Fabs=\",math.fabs(-15))\n",
    "print(\"Exponential=\",math.exp(2))\n",
    "print(\"Power=\",math.pow(2,3))\n",
    "print(\"Log with Base 2=\",math.log2(32))\n",
    "print(\"Log with base 10=\",math.log10(10))\n",
    "print(\"Degree to radian=\",math.radians(90))\n",
    "print(\"radian to degree=\",math.degrees(1.5707963267948966))\n",
    "print(\"Gamma=\",math.gamma(2))"
   ]
  },
  {
   "cell_type": "markdown",
   "metadata": {},
   "source": [
    "### 05) WAP to demonstrate the use of date time module."
   ]
  },
  {
   "cell_type": "code",
   "execution_count": 30,
   "metadata": {},
   "outputs": [
    {
     "name": "stdout",
     "output_type": "stream",
     "text": [
      "2023-02-08\n",
      "----------\n",
      "2023-02-16\n",
      "2023\n",
      "2\n",
      "16\n",
      "---------\n",
      "10:12:05.000007\n",
      "10\n",
      "12\n",
      "5\n",
      "7\n",
      "---------\n",
      "2023-02-08 10:23:05.000003\n",
      "2023\n",
      "2\n",
      "8\n",
      "10\n",
      "23\n",
      "5\n",
      "3\n",
      "---------\n",
      "2023-02-16 20:41:59.748246\n",
      "---------\n",
      "2023-02-18 20:41:59.748246\n",
      "---------\n",
      "2023-03-02 20:41:59.749321\n",
      "---------\n",
      "Thu\n",
      "Thursday\n",
      "02\n",
      "41\n",
      "23\n",
      "2023\n"
     ]
    }
   ],
   "source": [
    "import datetime as dm\n",
    "d=dm.date(2023,2,8)\n",
    "print(d)\n",
    "print(\"----------\")\n",
    "\n",
    "today = dm.date.today()\n",
    "print(today)\n",
    "print(today.year)\n",
    "print(today.month)\n",
    "print(today.day)\n",
    "print(\"---------\")\n",
    "\n",
    "t = dm.time(10,12,5,7)\n",
    "print(t)\n",
    "print(t.hour)\n",
    "print(t.minute)\n",
    "print(t.second)\n",
    "print(t.microsecond)\n",
    "print(\"---------\")\n",
    "\n",
    "dt = dm.datetime(2023,2,8,10,23,5,3)\n",
    "print(dt)\n",
    "print(dt.year)\n",
    "print(dt.month)\n",
    "print(dt.day)\n",
    "print(dt.hour)\n",
    "print(dt.minute)\n",
    "print(dt.second)\n",
    "print(dt.microsecond)\n",
    "print(\"---------\")\n",
    "\n",
    "print(dm.datetime.now())\n",
    "print(\"---------\")\n",
    "\n",
    "delta = dm.datetime.now()\n",
    "td = delta + dm.timedelta(days=2)\n",
    "print(td)\n",
    "print(\"---------\")\n",
    "\n",
    "delta = dm.datetime.now()\n",
    "td = delta + dm.timedelta(weeks=2)\n",
    "print(td)\n",
    "print(\"---------\")\n",
    "\n",
    "print(delta.strftime(\"%a\"))\n",
    "print(delta.strftime(\"%A\"))\n",
    "print(delta.strftime(\"%m\"))\n",
    "print(delta.strftime(\"%M\"))\n",
    "print(delta.strftime(\"%y\"))\n",
    "print(delta.strftime(\"%Y\"))"
   ]
  },
  {
   "cell_type": "markdown",
   "metadata": {},
   "source": [
    "# B"
   ]
  },
  {
   "cell_type": "markdown",
   "metadata": {},
   "source": [
    "### 01) WAP to Roll dice in such a way that every time you get the same number."
   ]
  },
  {
   "cell_type": "code",
   "execution_count": 33,
   "metadata": {},
   "outputs": [
    {
     "name": "stdout",
     "output_type": "stream",
     "text": [
      "2\n"
     ]
    }
   ],
   "source": [
    "list1=[1,2,3,4,5,6]\n",
    "random.seed(4)\n",
    "print(random.choice(list1))"
   ]
  },
  {
   "cell_type": "markdown",
   "metadata": {},
   "source": [
    "### 02) WAP to generate 3 random integers between 100 and 999 which is divisible by 5."
   ]
  },
  {
   "cell_type": "code",
   "execution_count": 36,
   "metadata": {},
   "outputs": [
    {
     "name": "stdout",
     "output_type": "stream",
     "text": [
      "710\n",
      "295\n",
      "215\n"
     ]
    }
   ],
   "source": [
    "for i in range(3):\n",
    "    print(random.randrange(100,999,5))"
   ]
  },
  {
   "cell_type": "markdown",
   "metadata": {},
   "source": [
    "### 03) WAP to generate 100 random lottery tickets and pick two lucky tickets from it as a winner."
   ]
  },
  {
   "cell_type": "code",
   "execution_count": 40,
   "metadata": {},
   "outputs": [
    {
     "name": "stdout",
     "output_type": "stream",
     "text": [
      "97\n",
      "7\n"
     ]
    }
   ],
   "source": [
    "list1=[]\n",
    "for i in range(100):\n",
    "    list1.append(i)\n",
    "print(random.choice(list1))\n",
    "print(random.choice(list1))"
   ]
  },
  {
   "cell_type": "markdown",
   "metadata": {},
   "source": [
    "### 04) WAP to print current date and time in Python."
   ]
  },
  {
   "cell_type": "code",
   "execution_count": 41,
   "metadata": {},
   "outputs": [
    {
     "name": "stdout",
     "output_type": "stream",
     "text": [
      "2023-02-16 20:48:12.931441\n"
     ]
    }
   ],
   "source": [
    "print(dm.datetime.now())"
   ]
  },
  {
   "cell_type": "markdown",
   "metadata": {},
   "source": [
    "### 05) Subtract a week (7 days) from a given date in Python."
   ]
  },
  {
   "cell_type": "code",
   "execution_count": 46,
   "metadata": {},
   "outputs": [
    {
     "name": "stdout",
     "output_type": "stream",
     "text": [
      "2023-02-09 20:49:56.172725\n"
     ]
    }
   ],
   "source": [
    "print(dm.datetime.now()- dm.timedelta(weeks=1))"
   ]
  },
  {
   "cell_type": "markdown",
   "metadata": {},
   "source": [
    "### 06) WAP to Calculate number of days between two given dates."
   ]
  },
  {
   "cell_type": "code",
   "execution_count": 47,
   "metadata": {},
   "outputs": [
    {
     "name": "stdout",
     "output_type": "stream",
     "text": [
      "-8 days, 13:51:05.791339\n"
     ]
    }
   ],
   "source": [
    "d1=dm.datetime(2023,2,9,10,42,3,5)\n",
    "d2=dm.datetime.now()\n",
    "print(d1-d2)"
   ]
  },
  {
   "cell_type": "markdown",
   "metadata": {},
   "source": [
    "### 07) WAP to Find the day of the week of a given date."
   ]
  },
  {
   "cell_type": "code",
   "execution_count": 48,
   "metadata": {},
   "outputs": [
    {
     "name": "stdout",
     "output_type": "stream",
     "text": [
      "Thu\n",
      "Thursday\n"
     ]
    }
   ],
   "source": [
    "delta = dm.datetime.now()\n",
    "print(delta.strftime(\"%a\"))\n",
    "print(delta.strftime(\"%A\"))"
   ]
  },
  {
   "cell_type": "code",
   "execution_count": null,
   "metadata": {},
   "outputs": [],
   "source": []
  }
 ],
 "metadata": {
  "kernelspec": {
   "display_name": "Python 3 (ipykernel)",
   "language": "python",
   "name": "python3"
  },
  "language_info": {
   "codemirror_mode": {
    "name": "ipython",
    "version": 3
   },
   "file_extension": ".py",
   "mimetype": "text/x-python",
   "name": "python",
   "nbconvert_exporter": "python",
   "pygments_lexer": "ipython3",
   "version": "3.9.13"
  }
 },
 "nbformat": 4,
 "nbformat_minor": 4
}
