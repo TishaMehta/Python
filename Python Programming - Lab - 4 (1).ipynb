{
 "cells": [
  {
   "cell_type": "markdown",
   "metadata": {},
   "source": [
    "\n",
    "<a href='https://www.darshan.ac.in/'> <img src='https://www.darshan.ac.in/Content/media/DU_Logo.svg' width=\"250\" height=\"300\"/></a>\n",
    "<pre>\n",
    "<center><b><h1>Python Programming - 2101CS405</b></center>\n",
    "<center><b><h1>Lab - 4</b></center>    \n",
    "<pre>"
   ]
  },
  {
   "cell_type": "markdown",
   "metadata": {},
   "source": [
    "# String"
   ]
  },
  {
   "cell_type": "markdown",
   "metadata": {},
   "source": [
    "### 01) WAP to check given string is palindrome or not."
   ]
  },
  {
   "cell_type": "code",
   "execution_count": 2,
   "metadata": {},
   "outputs": [
    {
     "name": "stdout",
     "output_type": "stream",
     "text": [
      "entre string:abccba\n",
      "abccba is palindrom\n"
     ]
    }
   ],
   "source": [
    "abc = input(\"entre string:\")\n",
    "if(abc[::-1]==abc):\n",
    "    print(f\"{abc} is palindrom\")\n",
    "else:\n",
    "    print(f\"{abc} is not palindrom\")"
   ]
  },
  {
   "cell_type": "markdown",
   "metadata": {},
   "source": [
    "### 02) WAP to reverse the words in given string."
   ]
  },
  {
   "cell_type": "code",
   "execution_count": 3,
   "metadata": {},
   "outputs": [
    {
     "name": "stdout",
     "output_type": "stream",
     "text": [
      "entre string:darshan uni\n",
      "uni darshan\n"
     ]
    }
   ],
   "source": [
    "str = input(\"entre string:\")\n",
    "s = str.split()[::-1]\n",
    "l = []\n",
    "for i in s:\n",
    "    l.append(i);\n",
    "print(\" \".join(l))"
   ]
  },
  {
   "cell_type": "markdown",
   "metadata": {},
   "source": [
    "### 03) WAP to remove ith character from given string"
   ]
  },
  {
   "cell_type": "code",
   "execution_count": 4,
   "metadata": {},
   "outputs": [
    {
     "name": "stdout",
     "output_type": "stream",
     "text": [
      "entre string:darshan\n",
      "entre index:3\n",
      "darhan\n"
     ]
    }
   ],
   "source": [
    "str = input(\"entre string:\")\n",
    "i = int(input(\"entre index:\"))\n",
    "a = str[:i]\n",
    "b = str[i+1:]\n",
    "print(a+b)"
   ]
  },
  {
   "cell_type": "markdown",
   "metadata": {},
   "source": [
    "### 04) WAP to find length of String without using len function."
   ]
  },
  {
   "cell_type": "code",
   "execution_count": 5,
   "metadata": {},
   "outputs": [
    {
     "name": "stdout",
     "output_type": "stream",
     "text": [
      "entre string:darshan uni\n",
      "darshan unilength:11\n"
     ]
    }
   ],
   "source": [
    "str = input(\"entre string:\")\n",
    "count = 0\n",
    "for i in str:\n",
    "    count+=1\n",
    "print(f\"{str}length:{count}\")"
   ]
  },
  {
   "cell_type": "markdown",
   "metadata": {},
   "source": [
    "### 05) WAP to print even length word in string."
   ]
  },
  {
   "cell_type": "code",
   "execution_count": 7,
   "metadata": {},
   "outputs": [
    {
     "name": "stdout",
     "output_type": "stream",
     "text": [
      "entre a string:darshan\n",
      "output = drhn\n"
     ]
    }
   ],
   "source": [
    "str = input(\"entre a string:\")\n",
    "print(f\"output = {str[0::2]}\")"
   ]
  },
  {
   "cell_type": "markdown",
   "metadata": {},
   "source": [
    "### 06) WAP to count numbers of vowels in given string."
   ]
  },
  {
   "cell_type": "code",
   "execution_count": 8,
   "metadata": {},
   "outputs": [
    {
     "name": "stdout",
     "output_type": "stream",
     "text": [
      "entre a string:tisha\n",
      "number is vowels in tisha is 2\n"
     ]
    }
   ],
   "source": [
    "str = input(\"entre a string:\")\n",
    "count = 0\n",
    "for i in str.lower():\n",
    "    if i=='a' or i=='e' or i=='i' or i=='o' or i=='u':\n",
    "        count+=1\n",
    "print(f\"number is vowels in {str} is {count}\")\n"
   ]
  },
  {
   "cell_type": "markdown",
   "metadata": {},
   "source": [
    "### 07) WAP to convert given array to string."
   ]
  },
  {
   "cell_type": "code",
   "execution_count": 10,
   "metadata": {},
   "outputs": [
    {
     "name": "stdout",
     "output_type": "stream",
     "text": [
      "Darshan Univercity\n"
     ]
    }
   ],
   "source": [
    "list = [\"Darshan\", \"Univercity\"]\n",
    "print(\" \".join(list))"
   ]
  },
  {
   "cell_type": "markdown",
   "metadata": {},
   "source": [
    "### 01) WAP to find out duplicate characters in given string."
   ]
  },
  {
   "cell_type": "code",
   "execution_count": 13,
   "metadata": {},
   "outputs": [
    {
     "name": "stdout",
     "output_type": "stream",
     "text": [
      "entre a string:hello world\n",
      "repeated characters :  l,o,"
     ]
    }
   ],
   "source": [
    "str = input(\"entre a string:\")\n",
    "temp,count=\"\",0\n",
    "\n",
    "print(\"repeated characters : \",end=\" \")\n",
    "for i in str:\n",
    "    if(temp.find(i)==-1):\n",
    "        for j in str[str.index(i)+1:]:\n",
    "            if(i==j):\n",
    "                temp+=i\n",
    "                count+=1\n",
    "    if count>0:\n",
    "        print(i,end=\",\")\n",
    "    count=0"
   ]
  },
  {
   "cell_type": "markdown",
   "metadata": {},
   "source": [
    "### 02) WAP to capitalize the first and last character of each word in a string."
   ]
  },
  {
   "cell_type": "code",
   "execution_count": 15,
   "metadata": {},
   "outputs": [
    {
     "name": "stdout",
     "output_type": "stream",
     "text": [
      "entre a string:darshan univercity\n",
      "DarshaN UnivercitY "
     ]
    }
   ],
   "source": [
    "str = input(\"entre a string:\")\n",
    "list = str.split(\" \")\n",
    "for i in list:\n",
    "    print(i[0:1].title()+i[1:len(i)-1]+(i[len(i)-1].title() if(len(i)>1) else \"\") ,end=\" \")\n"
   ]
  },
  {
   "cell_type": "markdown",
   "metadata": {},
   "source": [
    "### 03) WAP to find Maximum frequency character in String."
   ]
  },
  {
   "cell_type": "code",
   "execution_count": 16,
   "metadata": {},
   "outputs": [
    {
     "name": "stdout",
     "output_type": "stream",
     "text": [
      "entre a string:Darshan\n",
      "a\n"
     ]
    }
   ],
   "source": [
    "str = input(\"entre a string:\")\n",
    "f = {}\n",
    "for i in str:\n",
    "    if i in f:\n",
    "        f[i]+=1\n",
    "    else:\n",
    "        f[i]=1\n",
    "print(max(f,key = f.get))\n"
   ]
  },
  {
   "cell_type": "markdown",
   "metadata": {},
   "source": [
    "### 04) WAP to find Minimum frequency character in String."
   ]
  },
  {
   "cell_type": "code",
   "execution_count": 17,
   "metadata": {},
   "outputs": [
    {
     "name": "stdout",
     "output_type": "stream",
     "text": [
      "entre a string:darshan\n",
      "d\n"
     ]
    }
   ],
   "source": [
    "str = input(\"entre a string:\")\n",
    "f={}\n",
    "for i in str:\n",
    "    if i in f:\n",
    "        f[i]+=1\n",
    "    else:\n",
    "        f[i]=1\n",
    "print(min(f,key = f.get))"
   ]
  },
  {
   "cell_type": "markdown",
   "metadata": {},
   "source": [
    "### 05) WAP to check if a given string is binary string or not"
   ]
  },
  {
   "cell_type": "code",
   "execution_count": 18,
   "metadata": {},
   "outputs": [
    {
     "name": "stdout",
     "output_type": "stream",
     "text": [
      "entre a string:tisha\n",
      "tisha is not binary string\n"
     ]
    }
   ],
   "source": [
    "str = input(\"entre a string:\")\n",
    "for i in str:\n",
    "    if not(i=='1' or i=='0'):\n",
    "        print(f\"{str} is not binary string\")\n",
    "        break\n",
    "    else:\n",
    "        print(f\"{str} is binary string\")"
   ]
  },
  {
   "cell_type": "code",
   "execution_count": null,
   "metadata": {},
   "outputs": [],
   "source": []
  }
 ],
 "metadata": {
  "kernelspec": {
   "display_name": "Python 3 (ipykernel)",
   "language": "python",
   "name": "python3"
  },
  "language_info": {
   "codemirror_mode": {
    "name": "ipython",
    "version": 3
   },
   "file_extension": ".py",
   "mimetype": "text/x-python",
   "name": "python",
   "nbconvert_exporter": "python",
   "pygments_lexer": "ipython3",
   "version": "3.9.13"
  }
 },
 "nbformat": 4,
 "nbformat_minor": 4
}
